{
 "cells": [
  {
   "cell_type": "code",
   "execution_count": null,
   "metadata": {},
   "outputs": [],
   "source": [
    "cd /project/projectdirs/sobs/v4_sims/mbs/201903_highres_foregrounds"
   ]
  },
  {
   "cell_type": "code",
   "execution_count": null,
   "metadata": {},
   "outputs": [],
   "source": [
    "cd output"
   ]
  },
  {
   "cell_type": "code",
   "execution_count": null,
   "metadata": {},
   "outputs": [],
   "source": [
    "import healpy as hp\n",
    "import numpy as np\n",
    "import matplotlib.pyplot as plt\n",
    "%matplotlib inline"
   ]
  },
  {
   "cell_type": "code",
   "execution_count": null,
   "metadata": {},
   "outputs": [],
   "source": [
    "filename_template = \"{nside}/{content}/{num:04d}/simonsobs_{content}_uKCMB_{telescope}{band:03d}_nside{nside}_{num:04d}.fits\""
   ]
  },
  {
   "cell_type": "code",
   "execution_count": null,
   "metadata": {},
   "outputs": [],
   "source": [
    "for nside in [512]:\n",
    "    for content in [\"dust\", \"synchrotron\", \"freefree\", \"ame\"]:\n",
    "        for band in [27,  39,  93, 145, 225, 280]:\n",
    "            for telescope in [\"sa\", \"la\"]:\n",
    "                filename = filename_template.format(nside=nside, content=content, num=0, telescope=telescope, band=band)\n",
    "                m = hp.read_map(filename, field=0, verbose=False)\n",
    "                hp.mollview(m, title=\"Temperature \" + filename.split(\".\")[0].split(\"/\")[-1], min=0, max=1e3, unit=\"uK_CMB\")"
   ]
  },
  {
   "cell_type": "code",
   "execution_count": null,
   "metadata": {},
   "outputs": [],
   "source": [
    "for nside in [512]:\n",
    "    for content in [\"dust\", \"synchrotron\", \"freefree\", \"ame\"]:\n",
    "        for band in [27,  39,  93, 145, 225, 280]:\n",
    "            for telescope in [\"sa\", \"la\"]:\n",
    "                filename = filename_template.format(nside=nside, content=content, num=0, telescope=telescope, band=band)\n",
    "                m = hp.read_map(filename, field=(1,2), verbose=False)\n",
    "                hp.mollview(np.sqrt(m[0]**2+m[1]**2), title=\"Polarization \" + filename.split(\".\")[0].split(\"/\")[-1], min=0, max=1e2, unit=\"uK_CMB\")"
   ]
  },
  {
   "cell_type": "code",
   "execution_count": null,
   "metadata": {},
   "outputs": [],
   "source": []
  }
 ],
 "metadata": {
  "kernelspec": {
   "display_name": "condajupynersc",
   "language": "python",
   "name": "condajupynersc"
  },
  "language_info": {
   "codemirror_mode": {
    "name": "ipython",
    "version": 3
   },
   "file_extension": ".py",
   "mimetype": "text/x-python",
   "name": "python",
   "nbconvert_exporter": "python",
   "pygments_lexer": "ipython3",
   "version": "3.6.8"
  }
 },
 "nbformat": 4,
 "nbformat_minor": 2
}
